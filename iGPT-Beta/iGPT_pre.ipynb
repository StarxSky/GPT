{
 "cells": [
  {
   "cell_type": "code",
   "execution_count": 2,
   "id": "5330db1e",
   "metadata": {},
   "outputs": [
    {
     "name": "stdout",
     "output_type": "stream",
     "text": [
      "Cloning into 'GPT'...\n",
      "remote: Enumerating objects: 912, done.\u001b[K\n",
      "remote: Counting objects: 100% (311/311), done.\u001b[K\n",
      "remote: Compressing objects: 100% (304/304), done.\u001b[K\n",
      "remote: Total 912 (delta 181), reused 0 (delta 0), pack-reused 601\u001b[K\n",
      "Receiving objects: 100% (912/912), 1.64 MiB | 18.88 MiB/s, done.\n",
      "Resolving deltas: 100% (211/211), done.\n"
     ]
    }
   ],
   "source": [
    "!git clone https://github.com/StarxSky/GPT"
   ]
  },
  {
   "cell_type": "markdown",
   "id": "9189d76c",
   "metadata": {},
   "source": [
    "# 此笔记本必须放到与Core同目录下"
   ]
  },
  {
   "cell_type": "code",
   "execution_count": 1,
   "id": "4f4aa20b",
   "metadata": {},
   "outputs": [],
   "source": [
    "import os\n",
    "import torch\n",
    "import torchvision\n",
    "import numpy as np\n",
    "import matplotlib.pyplot as plt\n",
    "\n",
    "from Core.Function import sample\n",
    "from Core.Function import set_seed\n",
    "from Core.CONFIG import Trainer\n",
    "from Core.Model import GPT_Model\n",
    "from Core.Function import kmeans\n",
    "from Core.Datasets import ImageDataset\n",
    "from Core.CONFIG import GPTConfig\n",
    "from Core.CONFIG import TrainerConfig"
   ]
  },
  {
   "cell_type": "markdown",
   "id": "cbd7ff6f",
   "metadata": {},
   "source": [
    "# 下载数据"
   ]
  },
  {
   "cell_type": "code",
   "execution_count": 2,
   "id": "89e66c92",
   "metadata": {},
   "outputs": [
    {
     "name": "stdout",
     "output_type": "stream",
     "text": [
      "Downloading https://www.cs.toronto.edu/~kriz/cifar-10-python.tar.gz to ./cifar-10-python.tar.gz\n"
     ]
    },
    {
     "data": {
      "application/vnd.jupyter.widget-view+json": {
       "model_id": "07013c7e1de1442494b53628644ada6e",
       "version_major": 2,
       "version_minor": 0
      },
      "text/plain": [
       "  0%|          | 0/170498071 [00:00<?, ?it/s]"
      ]
     },
     "metadata": {},
     "output_type": "display_data"
    },
    {
     "name": "stdout",
     "output_type": "stream",
     "text": [
      "Extracting ./cifar-10-python.tar.gz to ./\n",
      "Files already downloaded and verified\n",
      "50000 10000\n"
     ]
    }
   ],
   "source": [
    "# ===========================下载数据====================================\n",
    "# 加载数据\n",
    "root = './'\n",
    "train_data = torchvision.datasets.CIFAR10(root, train=True, transform=None, target_transform=None, download=True)\n",
    "test_data  = torchvision.datasets.CIFAR10(root, train=False, transform=None, target_transform=None, download=True)\n",
    "print(len(train_data), len(test_data))"
   ]
  },
  {
   "cell_type": "markdown",
   "id": "b9486bac",
   "metadata": {},
   "source": [
    "# 处理数据"
   ]
  },
  {
   "cell_type": "code",
   "execution_count": 3,
   "id": "7b99f0a6",
   "metadata": {},
   "outputs": [
    {
     "name": "stdout",
     "output_type": "stream",
     "text": [
      "torch.Size([250000, 3])\n",
      "done step 1/8, re-initialized 11 dead clusters\n",
      "done step 2/8, re-initialized 0 dead clusters\n",
      "done step 3/8, re-initialized 0 dead clusters\n",
      "done step 4/8, re-initialized 0 dead clusters\n",
      "done step 5/8, re-initialized 0 dead clusters\n",
      "done step 6/8, re-initialized 0 dead clusters\n",
      "done step 7/8, re-initialized 0 dead clusters\n",
      "done step 8/8, re-initialized 0 dead clusters\n",
      "torch.Size([512, 3])\n"
     ]
    }
   ],
   "source": [
    "\n",
    "\n",
    "# ================================================================\n",
    "# 每张图像随机获取 5 个像素并将它们全部堆叠为 rgb 值以获得半百万个随机像素\n",
    "pluck_rgb = lambda x: torch.from_numpy(np.array(x)).view(32*32, 3)[torch.randperm(32*32)[:5], :]\n",
    "px = torch.cat([pluck_rgb(x) for x, y in train_data], dim=0).float()\n",
    "print(px.size())\n",
    "\n",
    "# ===========================应用K-means进行获取数据离散值=====================================\n",
    "ncluster = 512\n",
    "with torch.no_grad():\n",
    "    C = kmeans(px, ncluster, niter=8)\n",
    "\n",
    "print(C.size()) # 输出结果"
   ]
  },
  {
   "cell_type": "code",
   "execution_count": 10,
   "id": "21668082",
   "metadata": {},
   "outputs": [
    {
     "name": "stdout",
     "output_type": "stream",
     "text": [
      "tensor([336, 498, 329,  ..., 104, 116, 467])\n"
     ]
    }
   ],
   "source": [
    "# =============================制作数据集==============================\n",
    "train_dataset = ImageDataset(train_data, C)                     \n",
    "#test_dataset = ImageDataset(test_data, C)                        \n",
    "print(train_dataset[0][0])  # 一个示例图像被展平为整数                                                             "
   ]
  },
  {
   "cell_type": "markdown",
   "id": "d740c00e",
   "metadata": {},
   "source": [
    "## 将预训练的模型加载进去（注意模型必须放到```Pre_models```目录之中）"
   ]
  },
  {
   "cell_type": "code",
   "execution_count": 12,
   "id": "cb784fac",
   "metadata": {},
   "outputs": [
    {
     "name": "stdout",
     "output_type": "stream",
     "text": [
      "GPT_Model(\n",
      "  (tok_emb): Embedding(512, 84)\n",
      "  (drop1): Dropout(p=0.0, inplace=False)\n",
      "  (drop2): Dropout(p=0.5, inplace=False)\n",
      "  (blocks): Sequential(\n",
      "    (0): GPT_Block(\n",
      "      (ln1): LayerNorm((84,), eps=1e-05, elementwise_affine=True)\n",
      "      (ln2): LayerNorm((84,), eps=1e-05, elementwise_affine=True)\n",
      "      (attn): CausalSelfAttention(\n",
      "        (key): Linear(in_features=84, out_features=84, bias=True)\n",
      "        (query): Linear(in_features=84, out_features=84, bias=True)\n",
      "        (value): Linear(in_features=84, out_features=84, bias=True)\n",
      "        (attn_drop): Dropout(p=0.0, inplace=False)\n",
      "        (resid_drop): Dropout(p=0.0, inplace=False)\n",
      "        (proj): Linear(in_features=84, out_features=84, bias=True)\n",
      "      )\n",
      "      (mlp): Sequential(\n",
      "        (0): Linear(in_features=84, out_features=336, bias=True)\n",
      "        (1): GELU()\n",
      "        (2): Linear(in_features=336, out_features=84, bias=True)\n",
      "        (3): Dropout(p=0.0, inplace=False)\n",
      "      )\n",
      "    )\n",
      "    (1): GPT_Block(\n",
      "      (ln1): LayerNorm((84,), eps=1e-05, elementwise_affine=True)\n",
      "      (ln2): LayerNorm((84,), eps=1e-05, elementwise_affine=True)\n",
      "      (attn): CausalSelfAttention(\n",
      "        (key): Linear(in_features=84, out_features=84, bias=True)\n",
      "        (query): Linear(in_features=84, out_features=84, bias=True)\n",
      "        (value): Linear(in_features=84, out_features=84, bias=True)\n",
      "        (attn_drop): Dropout(p=0.0, inplace=False)\n",
      "        (resid_drop): Dropout(p=0.0, inplace=False)\n",
      "        (proj): Linear(in_features=84, out_features=84, bias=True)\n",
      "      )\n",
      "      (mlp): Sequential(\n",
      "        (0): Linear(in_features=84, out_features=336, bias=True)\n",
      "        (1): GELU()\n",
      "        (2): Linear(in_features=336, out_features=84, bias=True)\n",
      "        (3): Dropout(p=0.0, inplace=False)\n",
      "      )\n",
      "    )\n",
      "    (2): GPT_Block(\n",
      "      (ln1): LayerNorm((84,), eps=1e-05, elementwise_affine=True)\n",
      "      (ln2): LayerNorm((84,), eps=1e-05, elementwise_affine=True)\n",
      "      (attn): CausalSelfAttention(\n",
      "        (key): Linear(in_features=84, out_features=84, bias=True)\n",
      "        (query): Linear(in_features=84, out_features=84, bias=True)\n",
      "        (value): Linear(in_features=84, out_features=84, bias=True)\n",
      "        (attn_drop): Dropout(p=0.0, inplace=False)\n",
      "        (resid_drop): Dropout(p=0.0, inplace=False)\n",
      "        (proj): Linear(in_features=84, out_features=84, bias=True)\n",
      "      )\n",
      "      (mlp): Sequential(\n",
      "        (0): Linear(in_features=84, out_features=336, bias=True)\n",
      "        (1): GELU()\n",
      "        (2): Linear(in_features=336, out_features=84, bias=True)\n",
      "        (3): Dropout(p=0.0, inplace=False)\n",
      "      )\n",
      "    )\n",
      "    (3): GPT_Block(\n",
      "      (ln1): LayerNorm((84,), eps=1e-05, elementwise_affine=True)\n",
      "      (ln2): LayerNorm((84,), eps=1e-05, elementwise_affine=True)\n",
      "      (attn): CausalSelfAttention(\n",
      "        (key): Linear(in_features=84, out_features=84, bias=True)\n",
      "        (query): Linear(in_features=84, out_features=84, bias=True)\n",
      "        (value): Linear(in_features=84, out_features=84, bias=True)\n",
      "        (attn_drop): Dropout(p=0.0, inplace=False)\n",
      "        (resid_drop): Dropout(p=0.0, inplace=False)\n",
      "        (proj): Linear(in_features=84, out_features=84, bias=True)\n",
      "      )\n",
      "      (mlp): Sequential(\n",
      "        (0): Linear(in_features=84, out_features=336, bias=True)\n",
      "        (1): GELU()\n",
      "        (2): Linear(in_features=336, out_features=84, bias=True)\n",
      "        (3): Dropout(p=0.0, inplace=False)\n",
      "      )\n",
      "    )\n",
      "    (4): GPT_Block(\n",
      "      (ln1): LayerNorm((84,), eps=1e-05, elementwise_affine=True)\n",
      "      (ln2): LayerNorm((84,), eps=1e-05, elementwise_affine=True)\n",
      "      (attn): CausalSelfAttention(\n",
      "        (key): Linear(in_features=84, out_features=84, bias=True)\n",
      "        (query): Linear(in_features=84, out_features=84, bias=True)\n",
      "        (value): Linear(in_features=84, out_features=84, bias=True)\n",
      "        (attn_drop): Dropout(p=0.0, inplace=False)\n",
      "        (resid_drop): Dropout(p=0.0, inplace=False)\n",
      "        (proj): Linear(in_features=84, out_features=84, bias=True)\n",
      "      )\n",
      "      (mlp): Sequential(\n",
      "        (0): Linear(in_features=84, out_features=336, bias=True)\n",
      "        (1): GELU()\n",
      "        (2): Linear(in_features=336, out_features=84, bias=True)\n",
      "        (3): Dropout(p=0.0, inplace=False)\n",
      "      )\n",
      "    )\n",
      "    (5): GPT_Block(\n",
      "      (ln1): LayerNorm((84,), eps=1e-05, elementwise_affine=True)\n",
      "      (ln2): LayerNorm((84,), eps=1e-05, elementwise_affine=True)\n",
      "      (attn): CausalSelfAttention(\n",
      "        (key): Linear(in_features=84, out_features=84, bias=True)\n",
      "        (query): Linear(in_features=84, out_features=84, bias=True)\n",
      "        (value): Linear(in_features=84, out_features=84, bias=True)\n",
      "        (attn_drop): Dropout(p=0.0, inplace=False)\n",
      "        (resid_drop): Dropout(p=0.0, inplace=False)\n",
      "        (proj): Linear(in_features=84, out_features=84, bias=True)\n",
      "      )\n",
      "      (mlp): Sequential(\n",
      "        (0): Linear(in_features=84, out_features=336, bias=True)\n",
      "        (1): GELU()\n",
      "        (2): Linear(in_features=336, out_features=84, bias=True)\n",
      "        (3): Dropout(p=0.0, inplace=False)\n",
      "      )\n",
      "    )\n",
      "    (6): GPT_Block(\n",
      "      (ln1): LayerNorm((84,), eps=1e-05, elementwise_affine=True)\n",
      "      (ln2): LayerNorm((84,), eps=1e-05, elementwise_affine=True)\n",
      "      (attn): CausalSelfAttention(\n",
      "        (key): Linear(in_features=84, out_features=84, bias=True)\n",
      "        (query): Linear(in_features=84, out_features=84, bias=True)\n",
      "        (value): Linear(in_features=84, out_features=84, bias=True)\n",
      "        (attn_drop): Dropout(p=0.0, inplace=False)\n",
      "        (resid_drop): Dropout(p=0.0, inplace=False)\n",
      "        (proj): Linear(in_features=84, out_features=84, bias=True)\n",
      "      )\n",
      "      (mlp): Sequential(\n",
      "        (0): Linear(in_features=84, out_features=336, bias=True)\n",
      "        (1): GELU()\n",
      "        (2): Linear(in_features=336, out_features=84, bias=True)\n",
      "        (3): Dropout(p=0.0, inplace=False)\n",
      "      )\n",
      "    )\n",
      "    (7): GPT_Block(\n",
      "      (ln1): LayerNorm((84,), eps=1e-05, elementwise_affine=True)\n",
      "      (ln2): LayerNorm((84,), eps=1e-05, elementwise_affine=True)\n",
      "      (attn): CausalSelfAttention(\n",
      "        (key): Linear(in_features=84, out_features=84, bias=True)\n",
      "        (query): Linear(in_features=84, out_features=84, bias=True)\n",
      "        (value): Linear(in_features=84, out_features=84, bias=True)\n",
      "        (attn_drop): Dropout(p=0.0, inplace=False)\n",
      "        (resid_drop): Dropout(p=0.0, inplace=False)\n",
      "        (proj): Linear(in_features=84, out_features=84, bias=True)\n",
      "      )\n",
      "      (mlp): Sequential(\n",
      "        (0): Linear(in_features=84, out_features=336, bias=True)\n",
      "        (1): GELU()\n",
      "        (2): Linear(in_features=336, out_features=84, bias=True)\n",
      "        (3): Dropout(p=0.0, inplace=False)\n",
      "      )\n",
      "    )\n",
      "    (8): GPT_Block(\n",
      "      (ln1): LayerNorm((84,), eps=1e-05, elementwise_affine=True)\n",
      "      (ln2): LayerNorm((84,), eps=1e-05, elementwise_affine=True)\n",
      "      (attn): CausalSelfAttention(\n",
      "        (key): Linear(in_features=84, out_features=84, bias=True)\n",
      "        (query): Linear(in_features=84, out_features=84, bias=True)\n",
      "        (value): Linear(in_features=84, out_features=84, bias=True)\n",
      "        (attn_drop): Dropout(p=0.0, inplace=False)\n",
      "        (resid_drop): Dropout(p=0.0, inplace=False)\n",
      "        (proj): Linear(in_features=84, out_features=84, bias=True)\n",
      "      )\n",
      "      (mlp): Sequential(\n",
      "        (0): Linear(in_features=84, out_features=336, bias=True)\n",
      "        (1): GELU()\n",
      "        (2): Linear(in_features=336, out_features=84, bias=True)\n",
      "        (3): Dropout(p=0.0, inplace=False)\n",
      "      )\n",
      "    )\n",
      "    (9): GPT_Block(\n",
      "      (ln1): LayerNorm((84,), eps=1e-05, elementwise_affine=True)\n",
      "      (ln2): LayerNorm((84,), eps=1e-05, elementwise_affine=True)\n",
      "      (attn): CausalSelfAttention(\n",
      "        (key): Linear(in_features=84, out_features=84, bias=True)\n",
      "        (query): Linear(in_features=84, out_features=84, bias=True)\n",
      "        (value): Linear(in_features=84, out_features=84, bias=True)\n",
      "        (attn_drop): Dropout(p=0.0, inplace=False)\n",
      "        (resid_drop): Dropout(p=0.0, inplace=False)\n",
      "        (proj): Linear(in_features=84, out_features=84, bias=True)\n",
      "      )\n",
      "      (mlp): Sequential(\n",
      "        (0): Linear(in_features=84, out_features=336, bias=True)\n",
      "        (1): GELU()\n",
      "        (2): Linear(in_features=336, out_features=84, bias=True)\n",
      "        (3): Dropout(p=0.0, inplace=False)\n",
      "      )\n",
      "    )\n",
      "  )\n",
      "  (ln_f): LayerNorm((84,), eps=1e-05, elementwise_affine=True)\n",
      "  (head): Linear(in_features=84, out_features=512, bias=False)\n",
      ")\n"
     ]
    },
    {
     "data": {
      "text/plain": [
       "<All keys matched successfully>"
      ]
     },
     "execution_count": 12,
     "metadata": {},
     "output_type": "execute_result"
    }
   ],
   "source": [
    "# 设置确定性\n",
    "set_seed(42)\n",
    "# ===================================================================\n",
    "# 训练前的一些GPT模型的配置\n",
    "# 根据官方的模型，参数为batch_size = 128,Adam lr 0.003，beta = (0.9, 0.95)\n",
    "# 学习率预热一个 epoch，然后衰减到 0\n",
    "# 没有使用权重衰减或Droput\n",
    "# n_layer=24, n_head=8, n_embd=512\n",
    "# 另外您可以根据自己的设备进行自己配置\n",
    "mconf = GPTConfig(train_dataset.vocab_size, train_dataset.block_size,\n",
    "                  embd_pdrop=0.0, resid_pdrop=0.0, attn_pdrop=0.0,\n",
    "                  n_layer=10, n_head=4, n_embd=84)\n",
    "\n",
    "model = GPT_Model(mconf)\n",
    "print(model)\n",
    "# =============================Load Model=====================================\n",
    "checkpoint = torch.load('model.bin')\n",
    "model.load_state_dict(checkpoint)"
   ]
  },
  {
   "cell_type": "code",
   "execution_count": 15,
   "id": "26d5fd69",
   "metadata": {},
   "outputs": [],
   "source": [
    "# =============================CONFIG =======================================\n",
    "tokens_per_epoch = len(train_data) * train_dataset.block_size\n",
    "train_epochs = 1 # todo run a bigger model and longer, this is tiny\n",
    "# 初始化训练器进行训练\n",
    "tconf = TrainerConfig(max_epochs=train_epochs, batch_size=3*8, learning_rate=3e-3,\n",
    "                      betas = (0.9, 0.95), weight_decay=0,\n",
    "                      lr_decay=True, warmup_tokens=tokens_per_epoch, final_tokens=train_epochs*tokens_per_epoch,\n",
    "                      num_workers=8)\n",
    "\n",
    "trainer = Trainer(model = model, train_dataset = train_dataset, test_dataset = None, config = tconf,Save_Model_path='./pa')"
   ]
  },
  {
   "cell_type": "code",
   "execution_count": 16,
   "id": "3f690627",
   "metadata": {},
   "outputs": [],
   "source": [
    "# =============================================================================\n",
    "counts = torch.ones(ncluster) # start counts as 1 not zero, this is called \"smoothing\"\n",
    "rp = torch.randperm(len(train_dataset))\n",
    "nest = 5000 # how many images to use for the estimation\n",
    "for i in range(nest):\n",
    "    a, _ = train_dataset[int(rp[i])]\n",
    "    t = a[0].item() # index of first token in the sequence\n",
    "    counts[t] += 1\n",
    "    \n",
    "prob = counts/counts.sum()"
   ]
  },
  {
   "cell_type": "markdown",
   "id": "22a5f990",
   "metadata": {},
   "source": [
    "# 展示您的模型生成的结果"
   ]
  },
  {
   "cell_type": "code",
   "execution_count": null,
   "id": "c607cd93",
   "metadata": {},
   "outputs": [],
   "source": [
    "n_samples = 32\n",
    "start_pixel = np.random.choice(np.arange(C.size(0)), size=(n_samples, 1), replace=True, p=prob)\n",
    "start_pixel = torch.from_numpy(start_pixel).to(trainer.device)\n",
    "pixels = sample(model, start_pixel, 32*32-1, temperature=1.0, sample=True, top_k=100)\n",
    "# =========================Show the Images===============================\n",
    "# for visualization we have to invert the permutation used to produce the pixels\n",
    "iperm = torch.argsort(train_dataset.perm)\n",
    "ncol = 8\n",
    "nrow = n_samples // ncol\n",
    "\n",
    "plt.figure(figsize=(16, 8))\n",
    "for i in range(n_samples):\n",
    "    pxi = pixels[i][iperm] # note: undo the encoding permutation\n",
    "    \n",
    "    plt.subplot(nrow, ncol, i+1)\n",
    "    plt.imshow(C[pxi].view(32, 32, 3).numpy().astype(np.uint8))\n",
    "    plt.axis('off')"
   ]
  }
 ],
 "metadata": {
  "kernelspec": {
   "display_name": "Python 3 (ipykernel)",
   "language": "python",
   "name": "python3"
  },
  "language_info": {
   "codemirror_mode": {
    "name": "ipython",
    "version": 3
   },
   "file_extension": ".py",
   "mimetype": "text/x-python",
   "name": "python",
   "nbconvert_exporter": "python",
   "pygments_lexer": "ipython3",
   "version": "3.8.0"
  }
 },
 "nbformat": 4,
 "nbformat_minor": 5
}
